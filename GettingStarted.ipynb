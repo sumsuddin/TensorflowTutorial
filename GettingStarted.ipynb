{
 "cells": [
  {
   "cell_type": "markdown",
   "metadata": {},
   "source": [
    "# Getting Started"
   ]
  },
  {
   "cell_type": "markdown",
   "metadata": {},
   "source": [
    "Predict Weight and Bias in `Y = Weight * X + Bias` equation"
   ]
  },
  {
   "cell_type": "code",
   "execution_count": 4,
   "metadata": {
    "collapsed": true
   },
   "outputs": [],
   "source": [
    "import numpy as np\n",
    "import tensorflow as tf"
   ]
  },
  {
   "cell_type": "code",
   "execution_count": 45,
   "metadata": {},
   "outputs": [],
   "source": [
    "Weight = 0.3\n",
    "Bias = 0.7\n",
    "\n",
    "X = np.random.rand(100).astype(np.float32)\n",
    "Y = Weight * X + Bias\n"
   ]
  },
  {
   "cell_type": "code",
   "execution_count": 46,
   "metadata": {},
   "outputs": [],
   "source": [
    "tf_weight = tf.Variable(tf.random_uniform([1], -1, 1))\n",
    "tf_bias = tf.Variable(tf.zeros([1]))\n",
    "\n",
    "y_pred = tf_weight * X + tf_bias\n",
    "\n",
    "loss = tf.reduce_mean(tf.square(Y - y_pred))\n",
    "optimizer = tf.train.GradientDescentOptimizer(0.5)\n",
    "\n",
    "train = optimizer.minimize(loss)\n",
    "\n",
    "init = tf.global_variables_initializer()"
   ]
  },
  {
   "cell_type": "code",
   "execution_count": 47,
   "metadata": {},
   "outputs": [
    {
     "name": "stdout",
     "output_type": "stream",
     "text": [
      "Step :  0 [ 0.01333624] [ 1.07748437]\n",
      "Step :  50 [ 0.28003016] [ 0.70959896]\n",
      "Step :  100 [ 0.29895124] [ 0.70050412]\n",
      "Step :  150 [ 0.29994494] [ 0.70002645]\n",
      "Step :  200 [ 0.29999712] [ 0.70000136]\n",
      "Step :  250 [ 0.29999968] [ 0.70000017]\n",
      "Step :  300 [ 0.29999968] [ 0.70000017]\n",
      "Step :  350 [ 0.29999968] [ 0.70000017]\n",
      "Step :  400 [ 0.29999968] [ 0.70000017]\n",
      "Step :  450 [ 0.29999968] [ 0.70000017]\n",
      "Step :  500 [ 0.29999968] [ 0.70000017]\n",
      "Step :  550 [ 0.29999968] [ 0.70000017]\n",
      "Step :  600 [ 0.29999968] [ 0.70000017]\n",
      "Step :  650 [ 0.29999968] [ 0.70000017]\n",
      "Step :  700 [ 0.29999968] [ 0.70000017]\n",
      "Step :  750 [ 0.29999968] [ 0.70000017]\n",
      "Step :  800 [ 0.29999968] [ 0.70000017]\n",
      "Step :  850 [ 0.29999968] [ 0.70000017]\n",
      "Step :  900 [ 0.29999968] [ 0.70000017]\n",
      "Step :  950 [ 0.29999968] [ 0.70000017]\n"
     ]
    }
   ],
   "source": [
    "sess = tf.Session()\n",
    "\n",
    "sess.run(init)\n",
    "\n",
    "for step in range(1000) :\n",
    "    sess.run(train)\n",
    "    \n",
    "    if (step % 50 == 0) :\n",
    "        print (\"Step : \", step, sess.run(tf_weight), sess.run(tf_bias))"
   ]
  },
  {
   "cell_type": "code",
   "execution_count": null,
   "metadata": {
    "collapsed": true
   },
   "outputs": [],
   "source": []
  }
 ],
 "metadata": {
  "kernelspec": {
   "display_name": "Python 3",
   "language": "python",
   "name": "python3"
  },
  "language_info": {
   "codemirror_mode": {
    "name": "ipython",
    "version": 3
   },
   "file_extension": ".py",
   "mimetype": "text/x-python",
   "name": "python",
   "nbconvert_exporter": "python",
   "pygments_lexer": "ipython3",
   "version": "3.6.1"
  }
 },
 "nbformat": 4,
 "nbformat_minor": 2
}
